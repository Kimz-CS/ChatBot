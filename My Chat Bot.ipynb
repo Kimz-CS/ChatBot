{
 "cells": [
  {
   "cell_type": "code",
   "execution_count": 1,
   "metadata": {},
   "outputs": [],
   "source": [
    "from chatterbot import ChatBot\n",
    "from chatterbot.trainers import ListTrainer\n",
    "from chatterbot.trainers import ChatterBotCorpusTrainer\n",
    "import os"
   ]
  },
  {
   "cell_type": "code",
   "execution_count": 2,
   "metadata": {},
   "outputs": [
    {
     "data": {
      "text/plain": [
       "['bengali',\n",
       " 'chinese',\n",
       " 'english',\n",
       " 'french',\n",
       " 'german',\n",
       " 'hebrew',\n",
       " 'hindi',\n",
       " 'indonesian',\n",
       " 'italian',\n",
       " 'japanese',\n",
       " 'korean',\n",
       " 'marathi',\n",
       " 'oriya',\n",
       " 'persian',\n",
       " 'portuguese',\n",
       " 'russian',\n",
       " 'spanish',\n",
       " 'swedish',\n",
       " 'telugu',\n",
       " 'thai',\n",
       " 'traditionalchinese',\n",
       " 'turkish']"
      ]
     },
     "execution_count": 2,
     "metadata": {},
     "output_type": "execute_result"
    }
   ],
   "source": [
    "os.listdir(r\"C:\\Users\\cheml\\Documents\\Skul\\chatterbot-corpus-master\\chatterbot-corpus-master\\chatterbot_corpus\\data\")"
   ]
  },
  {
   "cell_type": "code",
   "execution_count": 3,
   "metadata": {},
   "outputs": [],
   "source": [
    "Kimz = ChatBot('Bot')"
   ]
  },
  {
   "cell_type": "code",
   "execution_count": 4,
   "metadata": {},
   "outputs": [],
   "source": [
    "trainer = ChatterBotCorpusTrainer(Kimz)"
   ]
  },
  {
   "cell_type": "code",
   "execution_count": 5,
   "metadata": {},
   "outputs": [
    {
     "name": "stdout",
     "output_type": "stream",
     "text": [
      "\r",
      "Training ai.yml: [                    ] 1%"
     ]
    },
    {
     "name": "stderr",
     "output_type": "stream",
     "text": [
      "C:\\ProgramData\\Anaconda3\\lib\\site-packages\\chatterbot\\corpus.py:59: YAMLLoadWarning: calling yaml.load() without Loader=... is deprecated, as the default Loader is unsafe. Please read https://msg.pyyaml.org/load for full details.\n",
      "  return yaml.load(data_file)\n"
     ]
    },
    {
     "name": "stdout",
     "output_type": "stream",
     "text": [
      "Training ai.yml: [####################] 100%\n",
      "Training botprofile.yml: [####################] 100%\n",
      "Training computers.yml: [####################] 100%\n",
      "Training conversations.yml: [####################] 100%\n",
      "Training emotion.yml: [####################] 100%\n",
      "Training food.yml: [####################] 100%\n",
      "Training gossip.yml: [####################] 100%\n",
      "Training greetings.yml: [####################] 100%\n",
      "Training health.yml: [####################] 100%\n",
      "Training history.yml: [####################] 100%\n",
      "Training humor.yml: [####################] 100%\n",
      "Training literature.yml: [####################] 100%\n",
      "Training money.yml: [####################] 100%\n",
      "Training movies.yml: [####################] 100%\n",
      "Training politics.yml: [####################] 100%\n",
      "Training psychology.yml: [####################] 100%\n",
      "Training science.yml: [####################] 100%\n",
      "Training sports.yml: [####################] 100%\n",
      "Training trivia.yml: [####################] 100%\n"
     ]
    }
   ],
   "source": [
    "# Train the chatbot based on the english corpus\n",
    "trainer.train(r\"C:\\Users\\cheml\\Documents\\Skul\\chatterbot-corpus-master\\chatterbot-corpus-master\\chatterbot_corpus\\data\\english\")"
   ]
  },
  {
   "cell_type": "code",
   "execution_count": 6,
   "metadata": {},
   "outputs": [
    {
     "data": {
      "text/plain": [
       "<Statement text:Artificial Intelligence is the branch of engineering and science devoted to constructing machines that think.>"
      ]
     },
     "execution_count": 6,
     "metadata": {},
     "output_type": "execute_result"
    }
   ],
   "source": [
    "Kimz.get_response('what is ai')"
   ]
  },
  {
   "cell_type": "code",
   "execution_count": null,
   "metadata": {},
   "outputs": [
    {
     "name": "stdout",
     "output_type": "stream",
     "text": [
      "Chat with the BotHi there\n",
      "bot reply :  There are other entities who are better versed on the topic.\n",
      "Chat with the BotHello\n",
      "bot reply :  Hi\n",
      "Chat with the Bothow are you doing?\n",
      "bot reply :  I am doing well.\n",
      "Chat with the Bottell me a joke \n",
      "bot reply :  Did you hear the one about the mountain goats in the andes? It was \"ba a a a a a d\".\n",
      "Chat with the Botwhat is a computer\n",
      "bot reply :  So you think i am a machine. what characteristics made you think so?\n",
      "Chat with the Botwhat is money\n",
      "bot reply :  standard pieces of gold, silver, copper, nickel, etc. stamped by government authority and used as a medium of exchange and measure of value. any substance or article used as money, as bank notes, checks, etc.\n"
     ]
    }
   ],
   "source": [
    "while True: \n",
    "    ip = input('Chat with the Bot')\n",
    "    if ip=='bye' or ip=='Bye':\n",
    "        break\n",
    "    if ip!='bye' or ip!='Bye':\n",
    "        reply=Kimz.get_response(ip)\n",
    "        print('bot reply : ',reply)"
   ]
  },
  {
   "cell_type": "code",
   "execution_count": null,
   "metadata": {},
   "outputs": [],
   "source": []
  }
 ],
 "metadata": {
  "kernelspec": {
   "display_name": "Python 3",
   "language": "python",
   "name": "python3"
  },
  "language_info": {
   "codemirror_mode": {
    "name": "ipython",
    "version": 3
   },
   "file_extension": ".py",
   "mimetype": "text/x-python",
   "name": "python",
   "nbconvert_exporter": "python",
   "pygments_lexer": "ipython3",
   "version": "3.7.4"
  }
 },
 "nbformat": 4,
 "nbformat_minor": 2
}
